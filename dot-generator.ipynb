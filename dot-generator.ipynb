{
 "cells": [
  {
   "cell_type": "code",
   "execution_count": 1,
   "id": "20d735c9-5c45-46b0-b732-a1275a7a6a30",
   "metadata": {},
   "outputs": [],
   "source": [
    "#\n",
    "# https://matplotlib.org/stable/plot_types/basic/scatter_plot.html#sphx-glr-plot-types-basic-scatter-plot-py\n",
    "#"
   ]
  },
  {
   "cell_type": "code",
   "execution_count": null,
   "id": "8f7f9a4e-f4b2-49b1-8493-fc35aefbf1fe",
   "metadata": {},
   "outputs": [],
   "source": [
    "import matplotlib.pyplot as plt\n",
    "import numpy as np\n",
    "\n",
    "plt.style.use('_mpl-gallery')\n",
    "\n",
    "# make the data\n",
    "np.random.seed(3)\n",
    "x = 4 + np.random.normal(0, 2, 24)\n",
    "y = 4 + np.random.normal(0, 2, len(x))\n",
    "# size and color:\n",
    "sizes = np.random.uniform(15, 80, len(x))\n",
    "colors = np.random.uniform(15, 80, len(x))\n",
    "\n",
    "# plot\n",
    "fig, ax = plt.subplots()\n",
    "\n",
    "ax.scatter(x, y, s=sizes, c=colors, vmin=0, vmax=100)\n",
    "\n",
    "ax.set(xlim=(0, 8), xticks=np.arange(1, 8),\n",
    "       ylim=(0, 8), yticks=np.arange(1, 8))\n",
    "\n",
    "plt.show()"
   ]
  },
  {
   "cell_type": "code",
   "execution_count": 3,
   "id": "fc6b58f1-332e-424f-a6fb-e6e9d20db6c6",
   "metadata": {},
   "outputs": [],
   "source": [
    "import matplotlib.pyplot as plt\n",
    "import numpy as np\n",
    "\n",
    "#plt.style.use('_mpl-gallery')\n",
    "\n",
    "# make the data\n",
    "np.random.seed(3)\n",
    "\n",
    "def gen_target():\n",
    "    x = 4 + np.random.normal(0, 2, 24)\n",
    "    y = 4 + np.random.normal(0, 2, len(x))\n",
    "    # size and color:\n",
    "    sizes = np.random.uniform(80, 80, len(x))\n",
    "    colors = np.random.uniform(250, 250, len(x))\n",
    "    \n",
    "    \n",
    "    fig, ax = plt.subplots()\n",
    "    # plot\n",
    "    plt.grid(False)\n",
    "    plt.axis(False)\n",
    "    \n",
    "    ax.scatter(x, y, s=sizes, c=colors, vmin=0, vmax=100)\n",
    "    \n",
    "    ax.set(xlim=(0, 8), xticks=np.arange(1, 8),\n",
    "           ylim=(0, 8), yticks=np.arange(1, 8))\n",
    "    \n",
    "    #plt.show()\n",
    "    plt.savefig('my_plot.png')\n",
    "    plt.savefig('my_plot.pdf')"
   ]
  },
  {
   "cell_type": "code",
   "execution_count": null,
   "id": "4429cea8-6d8b-4603-ab0f-34aacbb6105b",
   "metadata": {},
   "outputs": [],
   "source": [
    "gen_target()"
   ]
  },
  {
   "cell_type": "code",
   "execution_count": null,
   "id": "9ec2a57d-1aa6-4c3d-923b-18d4f62d815f",
   "metadata": {},
   "outputs": [],
   "source": []
  }
 ],
 "metadata": {
  "kernelspec": {
   "display_name": "tf",
   "language": "python",
   "name": "python3"
  },
  "language_info": {
   "codemirror_mode": {
    "name": "ipython",
    "version": 3
   },
   "file_extension": ".py",
   "mimetype": "text/x-python",
   "name": "python",
   "nbconvert_exporter": "python",
   "pygments_lexer": "ipython3",
   "version": "3.12.3"
  }
 },
 "nbformat": 4,
 "nbformat_minor": 5
}
